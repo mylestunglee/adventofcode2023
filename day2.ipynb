{
 "cells": [
  {
   "cell_type": "code",
   "execution_count": 70,
   "id": "05c0b19f",
   "metadata": {},
   "outputs": [],
   "source": [
    "puzzle_input = open('input02_2.txt').readlines()"
   ]
  },
  {
   "cell_type": "code",
   "execution_count": 71,
   "id": "904863ec",
   "metadata": {},
   "outputs": [],
   "source": [
    "def parse_subset_input(subset_input):\n",
    "    counters = {}\n",
    "    for counter_input in subset_input.strip().split(','):\n",
    "        count_input, colour_input = counter_input.strip().split()\n",
    "        counters[colour_input] = int(count_input)\n",
    "    return counters"
   ]
  },
  {
   "cell_type": "code",
   "execution_count": 72,
   "id": "b680ddcb",
   "metadata": {},
   "outputs": [],
   "source": [
    "def parse_puzzle_input(puzzle_input):\n",
    "    games = []\n",
    "    for line in puzzle_input:\n",
    "        _, subsets_input = line.strip().split(':')\n",
    "        subsets = subsets_input.strip().split(';')\n",
    "        games.append([parse_subset_input(subset) for subset in subsets])\n",
    "    return games"
   ]
  },
  {
   "cell_type": "code",
   "execution_count": 74,
   "id": "7b4d182a",
   "metadata": {},
   "outputs": [],
   "source": [
    "bag_contents = {'red': 12, 'green': 13, 'blue': 14}"
   ]
  },
  {
   "cell_type": "code",
   "execution_count": 75,
   "id": "848c139b",
   "metadata": {},
   "outputs": [],
   "source": [
    "def is_game_possible(game):\n",
    "    return all(is_dict_subset(subset, bag_contents) for subset in game)"
   ]
  },
  {
   "cell_type": "code",
   "execution_count": 76,
   "id": "5eb3da50",
   "metadata": {},
   "outputs": [],
   "source": [
    "def is_dict_subset(dict1, dict2):\n",
    "    return all(dict2.get(key1, 0) >= value1 for key1, value1 in dict1.items())"
   ]
  },
  {
   "cell_type": "code",
   "execution_count": 77,
   "id": "1fd7841d",
   "metadata": {},
   "outputs": [
    {
     "data": {
      "text/plain": [
       "2512"
      ]
     },
     "execution_count": 77,
     "metadata": {},
     "output_type": "execute_result"
    }
   ],
   "source": [
    "sum(game_i + 1 for game_i, game in enumerate(parse_puzzle_input(puzzle_input)) if is_game_possible(game))"
   ]
  },
  {
   "cell_type": "code",
   "execution_count": 92,
   "id": "432b98c5",
   "metadata": {},
   "outputs": [],
   "source": [
    "def game_power(game):\n",
    "    reds, greens, blues = min_cubes(game)\n",
    "    print(reds, greens, blues)\n",
    "    return reds * greens * blues"
   ]
  },
  {
   "cell_type": "code",
   "execution_count": 95,
   "id": "255e0dfe",
   "metadata": {},
   "outputs": [],
   "source": [
    "def min_cubes(game):\n",
    "    print(game)\n",
    "    reds = 0\n",
    "    greens = 0\n",
    "    blues = 0\n",
    "    for subset in game:\n",
    "        reds = max(subset.get('red', 0), reds)\n",
    "        greens = max(subset.get('green', 0), greens)\n",
    "        blues = max(subset.get('blue', 0), blues)\n",
    "    return reds, greens, blues"
   ]
  },
  {
   "cell_type": "code",
   "execution_count": 96,
   "id": "52ffc218",
   "metadata": {},
   "outputs": [
    {
     "name": "stdout",
     "output_type": "stream",
     "text": [
      "[{'blue': 4, 'red': 7, 'green': 5}, {'blue': 3, 'red': 4, 'green': 16}, {'red': 3, 'green': 11}]\n",
      "7 16 4\n"
     ]
    },
    {
     "data": {
      "text/plain": [
       "448"
      ]
     },
     "execution_count": 96,
     "metadata": {},
     "output_type": "execute_result"
    }
   ],
   "source": [
    "game_power(parse_puzzle_input(puzzle_input)[0])"
   ]
  },
  {
   "cell_type": "code",
   "execution_count": null,
   "id": "45388cc3",
   "metadata": {},
   "outputs": [],
   "source": []
  }
 ],
 "metadata": {
  "kernelspec": {
   "display_name": "Python 3 (ipykernel)",
   "language": "python",
   "name": "python3"
  },
  "language_info": {
   "codemirror_mode": {
    "name": "ipython",
    "version": 3
   },
   "file_extension": ".py",
   "mimetype": "text/x-python",
   "name": "python",
   "nbconvert_exporter": "python",
   "pygments_lexer": "ipython3",
   "version": "3.10.0"
  }
 },
 "nbformat": 4,
 "nbformat_minor": 5
}
