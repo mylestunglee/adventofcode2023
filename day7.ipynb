{
 "cells": [
  {
   "cell_type": "code",
   "execution_count": 22,
   "id": "3ec6b29d",
   "metadata": {},
   "outputs": [
    {
     "data": {
      "text/plain": [
       "251136060"
      ]
     },
     "execution_count": 22,
     "metadata": {},
     "output_type": "execute_result"
    }
   ],
   "source": [
    "from collections import Counter, defaultdict\n",
    "\n",
    "def parse_puzzle_input(puzzle_input):\n",
    "    tokens = [line.split() for line in puzzle_input.split('\\n') if line]\n",
    "    return [(card, int(bid)) for card, bid in tokens]\n",
    "\n",
    "card_to_rank = {'A': 12, 'K': 11, 'Q': 10, 'J': 9, 'T': 8, '9': 7, '8': 6, '7': 5, '6': 4, '5': 3, '4': 2, '3': 1,\n",
    "'2': 0}\n",
    "\n",
    "def grouped_counter_to_type(grouped_counter):\n",
    "    if grouped_counter[5] == 1:\n",
    "        return 6\n",
    "    elif grouped_counter[4] == 1:\n",
    "        return 5\n",
    "    elif grouped_counter[3] == 1:\n",
    "        if grouped_counter[2] == 1:\n",
    "            return 4\n",
    "        else:\n",
    "            return 3\n",
    "    elif grouped_counter[2] == 2:\n",
    "        return 2\n",
    "    elif grouped_counter[2] == 1:\n",
    "        return 1\n",
    "    else:\n",
    "        return 0\n",
    "\n",
    "def cards_to_hand(hand):\n",
    "    assert(len(hand) == 5)\n",
    "    # compute frequency -> sorted cards\n",
    "    counter = Counter(hand)\n",
    "    grouped_counter = defaultdict(lambda: 0)\n",
    "    for count in counter.values():\n",
    "        grouped_counter[count] += 1\n",
    "\n",
    "    return grouped_counter_to_type(grouped_counter), tuple(card_to_rank[card] for card in hand)\n",
    "            \n",
    "with open('input07_2.txt') as file:\n",
    "    puzzle_input = file.read()\n",
    "\n",
    "hand_bids = [(cards_to_hand(cards), bid) for cards, bid in parse_puzzle_input(puzzle_input)]\n",
    "hand_bids.sort()\n",
    "\n",
    "# part 1\n",
    "sum((i + 1) * bid for i, (hand, bid) in enumerate(hand_bids))"
   ]
  },
  {
   "cell_type": "code",
   "execution_count": 26,
   "id": "fe6c6f0b",
   "metadata": {},
   "outputs": [
    {
     "data": {
      "text/plain": [
       "249400220"
      ]
     },
     "execution_count": 26,
     "metadata": {},
     "output_type": "execute_result"
    }
   ],
   "source": [
    "card_to_rank = {'A': 12, 'K': 11, 'Q': 10, 'T': 9, '9': 8, '8': 7, '7': 6, '6': 5, '5': 4, '4': 3, '3': 2,\n",
    "'2': 1, 'J': 0}\n",
    "\n",
    "def cards_to_hand2(hand):\n",
    "    assert(len(hand) == 5)\n",
    "    # compute frequency -> sorted cards\n",
    "    counter = Counter(hand)\n",
    "    grouped_counter = defaultdict(lambda: 0)\n",
    "    for card, count in counter.items():\n",
    "        if card != 'J':\n",
    "            grouped_counter[count] += 1\n",
    "  \n",
    "    if grouped_counter:\n",
    "        max_freq = max(grouped_counter)\n",
    "        grouped_counter[max_freq] -= 1\n",
    "    else:\n",
    "        max_freq = 0\n",
    "\n",
    "    grouped_counter[max_freq + counter['J']] += 1\n",
    "\n",
    "    type_ = grouped_counter_to_type(grouped_counter)\n",
    "    \n",
    "    return type_, tuple(card_to_rank[card] for card in hand)\n",
    "\n",
    "hand_bids = [(cards_to_hand2(cards), bid) for cards, bid in parse_puzzle_input(puzzle_input)]\n",
    "hand_bids.sort()\n",
    "\n",
    "# part 2\n",
    "sum((i + 1) * bid for i, (hand, bid) in enumerate(hand_bids))"
   ]
  }
 ],
 "metadata": {
  "kernelspec": {
   "display_name": "Python 3 (ipykernel)",
   "language": "python",
   "name": "python3"
  },
  "language_info": {
   "codemirror_mode": {
    "name": "ipython",
    "version": 3
   },
   "file_extension": ".py",
   "mimetype": "text/x-python",
   "name": "python",
   "nbconvert_exporter": "python",
   "pygments_lexer": "ipython3",
   "version": "3.10.0"
  }
 },
 "nbformat": 4,
 "nbformat_minor": 5
}
