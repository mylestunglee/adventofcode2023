{
 "cells": [
  {
   "cell_type": "code",
   "execution_count": 22,
   "id": "e651c7ee",
   "metadata": {},
   "outputs": [
    {
     "data": {
      "text/plain": [
       "528819"
      ]
     },
     "execution_count": 22,
     "metadata": {},
     "output_type": "execute_result"
    }
   ],
   "source": [
    "puzzle_input = open('input03_2.txt').readlines()\n",
    "\n",
    "def next_to_symbol(row, col):\n",
    "    chars = []\n",
    "    for i in [-1, 0, 1]:\n",
    "        for j in [-1, 0, 1]:\n",
    "            if i == 0 and j == 0:\n",
    "                continue\n",
    "            if not 0 <= row + i < len(puzzle_input):\n",
    "                continue\n",
    "            if not 0 <= col + j < len(puzzle_input[0]):\n",
    "                continue\n",
    "            if puzzle_input[row + i][col + j] in r\"\"\"!\"#$%&'()*+,-/:;<=>?@[\\]^_`{|}~\"\"\":\n",
    "                return True\n",
    "    return False\n",
    "\n",
    "nums = []\n",
    "for row, line in enumerate(puzzle_input):\n",
    "    num_chars = []\n",
    "    symbol_adjacent = False\n",
    "    for col, char in enumerate(line):\n",
    "        if char.isdigit():\n",
    "            num_chars.append(char)\n",
    "            symbol_adjacent = symbol_adjacent or next_to_symbol(row, col) \n",
    "        else:\n",
    "            # \\n at end of line to flush num_chars\n",
    "            if num_chars:\n",
    "                if symbol_adjacent:\n",
    "                    nums.append(int(''.join(num_chars)))\n",
    "                num_chars.clear()\n",
    "            symbol_adjacent = False\n",
    "\n",
    "# part 1\n",
    "sum(nums)"
   ]
  },
  {
   "cell_type": "code",
   "execution_count": 23,
   "id": "85dffc38",
   "metadata": {},
   "outputs": [
    {
     "data": {
      "text/plain": [
       "80403602"
      ]
     },
     "execution_count": 23,
     "metadata": {},
     "output_type": "execute_result"
    }
   ],
   "source": [
    "from collections import defaultdict\n",
    "import math\n",
    "\n",
    "def next_to_asterisk(row, col):\n",
    "    asterisks = []\n",
    "    chars = []\n",
    "    for i in [-1, 0, 1]:\n",
    "        for j in [-1, 0, 1]:\n",
    "            if i == 0 and j == 0:\n",
    "                continue\n",
    "            if not 0 <= row + i < len(puzzle_input):\n",
    "                continue\n",
    "            if not 0 <= col + j < len(puzzle_input[0]):\n",
    "                continue\n",
    "            if puzzle_input[row + i][col + j] == '*':\n",
    "                asterisks.append((row + i, col + j))\n",
    "    return asterisks\n",
    "\n",
    "asterisk_nums = defaultdict(lambda: set())\n",
    "for row, line in enumerate(puzzle_input):\n",
    "    num_chars = []\n",
    "    asterisk_adjacent = []\n",
    "    for col, char in enumerate(line):\n",
    "        if char.isdigit():\n",
    "            num_chars.append(char)\n",
    "            asterisk_adjacent += next_to_asterisk(row, col) \n",
    "        else:\n",
    "            # \\n at end of line to flush num_chars\n",
    "            if num_chars:\n",
    "                for asterisk in asterisk_adjacent:\n",
    "                    asterisk_nums[asterisk].add(int(''.join(num_chars)))\n",
    "                num_chars.clear()\n",
    "                asterisk_adjacent.clear()\n",
    "            symbol_adjacent = False\n",
    "\n",
    "# part 2\n",
    "sum(math.prod(nums) for _, nums in asterisk_nums.items() if len(nums) == 2)"
   ]
  },
  {
   "cell_type": "code",
   "execution_count": null,
   "id": "7352543d",
   "metadata": {},
   "outputs": [],
   "source": []
  }
 ],
 "metadata": {
  "kernelspec": {
   "display_name": "Python 3 (ipykernel)",
   "language": "python",
   "name": "python3"
  },
  "language_info": {
   "codemirror_mode": {
    "name": "ipython",
    "version": 3
   },
   "file_extension": ".py",
   "mimetype": "text/x-python",
   "name": "python",
   "nbconvert_exporter": "python",
   "pygments_lexer": "ipython3",
   "version": "3.10.0"
  }
 },
 "nbformat": 4,
 "nbformat_minor": 5
}
