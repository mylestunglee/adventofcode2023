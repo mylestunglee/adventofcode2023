{
 "cells": [
  {
   "cell_type": "code",
   "execution_count": 32,
   "id": "fa2d64a7",
   "metadata": {},
   "outputs": [
    {
     "data": {
      "text/plain": [
       "1195150"
      ]
     },
     "execution_count": 32,
     "metadata": {},
     "output_type": "execute_result"
    }
   ],
   "source": [
    "import math\n",
    "\n",
    "puzzle_input = open('input06_2.txt').read()\n",
    "\n",
    "def parse_puzzle_input(puzzle_input):\n",
    "    times, distances = [[int(x) for x in line.split()[1:]] for line in puzzle_input.split('\\n')]\n",
    "    return list(zip(times, distances))\n",
    "\n",
    "def quadratic_formula(a, b, c, sign):\n",
    "    return (-b + sign * (b*b - 4*a*c)**0.5) / (2*a)\n",
    "\n",
    "def count_winning_options(time, distance):\n",
    "    # winning(total_time, distance, hold_time)\n",
    "    # <=> speed * time > distance\n",
    "    # <=> hold_time * (total_time - hold_time) > distance\n",
    "    # boundary conditions at:\n",
    "    # hold_time * (total_time - hold_time) = distance\n",
    "    # -hold_time ^ 2 + hold_time * total_time - distance = 0\n",
    "    p = math.floor(quadratic_formula(-1, time, -distance, 1))\n",
    "    q = math.ceil(quadratic_formula(-1, time, -distance, -1))\n",
    "    return q - p - 1\n",
    "\n",
    "# part 1\n",
    "math.prod(count_winning_options(time, distance) for time, distance in parse_puzzle_input(puzzle_input))"
   ]
  },
  {
   "cell_type": "code",
   "execution_count": 33,
   "id": "cdba40e6",
   "metadata": {},
   "outputs": [
    {
     "data": {
      "text/plain": [
       "42550411"
      ]
     },
     "execution_count": 33,
     "metadata": {},
     "output_type": "execute_result"
    }
   ],
   "source": [
    "def parse_puzzle_input2(puzzle_input):\n",
    "    return tuple(int(''.join(line.split(':')[1].split())) for line in puzzle_input.split('\\n'))\n",
    "\n",
    "big_time, big_distance = parse_puzzle_input2(puzzle_input)\n",
    "\n",
    "# part 2\n",
    "count_winning_options(big_time, big_distance)"
   ]
  }
 ],
 "metadata": {
  "kernelspec": {
   "display_name": "Python 3 (ipykernel)",
   "language": "python",
   "name": "python3"
  },
  "language_info": {
   "codemirror_mode": {
    "name": "ipython",
    "version": 3
   },
   "file_extension": ".py",
   "mimetype": "text/x-python",
   "name": "python",
   "nbconvert_exporter": "python",
   "pygments_lexer": "ipython3",
   "version": "3.10.0"
  }
 },
 "nbformat": 4,
 "nbformat_minor": 5
}
