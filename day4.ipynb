{
 "cells": [
  {
   "cell_type": "code",
   "execution_count": 96,
   "id": "201da171",
   "metadata": {},
   "outputs": [],
   "source": [
    "puzzle_input = open('input04_2.txt').readlines()"
   ]
  },
  {
   "cell_type": "code",
   "execution_count": 97,
   "id": "fb6b289e",
   "metadata": {},
   "outputs": [],
   "source": [
    "import re\n",
    "def parse_puzzle_input(puzzle_input):\n",
    "    return [parse_line(line) for line in puzzle_input]\n",
    "def parse_int_list(nums):\n",
    "    return [int(num) for num in nums.strip().split()]\n",
    "def parse_line(line):\n",
    "    matches = re.match('Card +(\\d+):((?: +\\d+)+) \\|((?: +\\d+)+)\\n?', line)\n",
    "    _, winnings, obtaineds = matches.groups()\n",
    "    return (parse_int_list(winnings), parse_int_list(obtaineds))"
   ]
  },
  {
   "cell_type": "code",
   "execution_count": 98,
   "id": "f4ca4462",
   "metadata": {},
   "outputs": [],
   "source": [
    "def card_score(card):\n",
    "    winnings, obtaineds = card\n",
    "    count = sum(1 for obtained in obtaineds if obtained in winnings)\n",
    "    if count == 0:\n",
    "        return 0\n",
    "    return 2 ** (count - 1)"
   ]
  },
  {
   "cell_type": "code",
   "execution_count": 99,
   "id": "69de2aaf",
   "metadata": {},
   "outputs": [
    {
     "data": {
      "text/plain": [
       "23678"
      ]
     },
     "execution_count": 99,
     "metadata": {},
     "output_type": "execute_result"
    }
   ],
   "source": [
    "sum(card_score(card) for card in parse_puzzle_input(puzzle_input))"
   ]
  },
  {
   "cell_type": "code",
   "execution_count": 101,
   "id": "c85940cf",
   "metadata": {},
   "outputs": [
    {
     "data": {
      "text/plain": [
       "15455663"
      ]
     },
     "execution_count": 101,
     "metadata": {},
     "output_type": "execute_result"
    }
   ],
   "source": [
    "from collections import defaultdict\n",
    "cards = parse_puzzle_input(puzzle_input)\n",
    "queue = [1 for card in cards]\n",
    "def card_win_count(card):\n",
    "    winnings, obtaineds = card\n",
    "    return sum(1 for obtained in obtaineds if obtained in winnings)\n",
    "for i, _ in enumerate(queue):\n",
    "    for j in range(card_win_count(cards[i])):\n",
    "        queue[i + j + 1] += queue[i]\n",
    "sum(queue)"
   ]
  }
 ],
 "metadata": {
  "kernelspec": {
   "display_name": "Python 3 (ipykernel)",
   "language": "python",
   "name": "python3"
  },
  "language_info": {
   "codemirror_mode": {
    "name": "ipython",
    "version": 3
   },
   "file_extension": ".py",
   "mimetype": "text/x-python",
   "name": "python",
   "nbconvert_exporter": "python",
   "pygments_lexer": "ipython3",
   "version": "3.10.0"
  }
 },
 "nbformat": 4,
 "nbformat_minor": 5
}
