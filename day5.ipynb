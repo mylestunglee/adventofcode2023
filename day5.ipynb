{
 "cells": [
  {
   "cell_type": "code",
   "execution_count": 81,
   "id": "f8e0d1a2",
   "metadata": {},
   "outputs": [
    {
     "data": {
      "text/plain": [
       "389056265"
      ]
     },
     "execution_count": 81,
     "metadata": {},
     "output_type": "execute_result"
    }
   ],
   "source": [
    "puzzle_input = open('input05_2.txt').read()\n",
    "\n",
    "def parse_puzzle(puzzle_input):\n",
    "    maps = []\n",
    "    for map_i, map_token in enumerate(puzzle_input.strip().split('\\n\\n')):\n",
    "        if map_i == 0: # seeds\n",
    "            seeds = [int(seed) for seed in map_token.strip().split(': ')[1].split(' ')]\n",
    "        else:\n",
    "            ranges = []\n",
    "            for range_token in map_token.strip().split('\\n')[1:]:\n",
    "                ranges.append(tuple(int(x) for x in range_token.strip().split(' ')))\n",
    "            maps.append(ranges)\n",
    "    return seeds, maps\n",
    "\n",
    "seeds, maps = parse_puzzle(puzzle_input)\n",
    "\n",
    "def apply_maps(x, maps):\n",
    "    for map_ in maps:\n",
    "        x = apply_map(x, map_)\n",
    "    return x\n",
    "\n",
    "def apply_map(x, map_):\n",
    "    for dest, src, length in map_:\n",
    "        if src <= x < src + length:\n",
    "            return x - src + dest\n",
    "    return x\n",
    "\n",
    "# part 1\n",
    "min(apply_maps(seed, maps) for seed in seeds)"
   ]
  },
  {
   "cell_type": "code",
   "execution_count": 94,
   "id": "961bd514",
   "metadata": {},
   "outputs": [
    {
     "data": {
      "text/plain": [
       "137516820"
      ]
     },
     "execution_count": 94,
     "metadata": {},
     "output_type": "execute_result"
    }
   ],
   "source": [
    "seed_ranges = [(seeds[i], seeds[i + 1]) for i in range(0, len(seeds), 2)]\n",
    "\n",
    "def partition_ranges(start1, length1, start2, length2):\n",
    "    end1 = start1 + length1\n",
    "    end2 = start2 + length2\n",
    "\n",
    "    if start1 < end2 and end1 > start2:\n",
    "        nonoverlapping_subranges = []\n",
    "        overlapping_subranges = []\n",
    "\n",
    "        if start1 < start2:\n",
    "            nonoverlapping_subranges.append((start1, start2 - start1))\n",
    "            \n",
    "        if end1 > end2:\n",
    "            nonoverlapping_subranges.append((end2, end1 - end2))\n",
    "        \n",
    "        if start2 <= start1 < end2:\n",
    "            overlapping_start = start1\n",
    "        else:\n",
    "            overlapping_start = start2\n",
    "\n",
    "        if start2 < end1 <= end2:\n",
    "            overlapping_end = end1\n",
    "        else:\n",
    "            overlapping_end = end2\n",
    "\n",
    "        return nonoverlapping_subranges, [(overlapping_start, overlapping_end - overlapping_start)]\n",
    "    else:\n",
    "        return [(start1, length1)], []\n",
    "\n",
    "def range_apply_submap(start, length1, dest, src, length2):\n",
    "    # assert range in submap bounds\n",
    "    return (start - src + dest, length1)\n",
    "    \n",
    "def range_apply_map(unmapped_ranges, map_):\n",
    "    mapped_ranges = []\n",
    "    for dest, src, length in map_:\n",
    "        unmapped_subranges_accum = []\n",
    "        mapped_subranges_accum = []\n",
    "\n",
    "        for unmapped_range in unmapped_ranges:\n",
    "            nonoverlapping_subranges, overlapping_subranges = partition_ranges(unmapped_range[0], unmapped_range[1], src, length)\n",
    "\n",
    "            unmapped_subranges_accum += nonoverlapping_subranges\n",
    "            mapped_subranges_accum += [range_apply_submap(subrange[0], subrange[1], dest, src, length)\n",
    "                                       for subrange in overlapping_subranges]\n",
    "        # rebuild subranges\n",
    "        unmapped_ranges = unmapped_subranges_accum\n",
    "        mapped_ranges += mapped_subranges_accum\n",
    "    return unmapped_ranges + mapped_ranges\n",
    "\n",
    "def range_apply_maps(ranges, maps):\n",
    "    for map_ in maps:\n",
    "        ranges = range_apply_map(ranges, map_)\n",
    "    return ranges\n",
    "\n",
    "min(start for start, length in range_apply_maps(seed_ranges, maps))"
   ]
  },
  {
   "cell_type": "code",
   "execution_count": null,
   "id": "1403cea5",
   "metadata": {},
   "outputs": [],
   "source": []
  }
 ],
 "metadata": {
  "kernelspec": {
   "display_name": "Python 3 (ipykernel)",
   "language": "python",
   "name": "python3"
  },
  "language_info": {
   "codemirror_mode": {
    "name": "ipython",
    "version": 3
   },
   "file_extension": ".py",
   "mimetype": "text/x-python",
   "name": "python",
   "nbconvert_exporter": "python",
   "pygments_lexer": "ipython3",
   "version": "3.10.0"
  }
 },
 "nbformat": 4,
 "nbformat_minor": 5
}
