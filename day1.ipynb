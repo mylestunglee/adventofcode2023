{
 "cells": [
  {
   "cell_type": "code",
   "execution_count": 71,
   "id": "8864a48f",
   "metadata": {},
   "outputs": [],
   "source": [
    "puzzle_input = open('input01_2.txt').readlines()"
   ]
  },
  {
   "cell_type": "code",
   "execution_count": 12,
   "id": "263f95f9",
   "metadata": {},
   "outputs": [],
   "source": [
    "def first_digit(line):\n",
    "    for char in line:\n",
    "        if char.isdigit():\n",
    "            return char"
   ]
  },
  {
   "cell_type": "code",
   "execution_count": 18,
   "id": "17b919e0",
   "metadata": {},
   "outputs": [],
   "source": [
    "digits = [first_digit(line) + first_digit(line[::-1]) for line in puzzle_input]"
   ]
  },
  {
   "cell_type": "code",
   "execution_count": 19,
   "id": "731f33f8",
   "metadata": {},
   "outputs": [
    {
     "data": {
      "text/plain": [
       "54968"
      ]
     },
     "execution_count": 19,
     "metadata": {},
     "output_type": "execute_result"
    }
   ],
   "source": [
    "# part 1 solution\n",
    "sum(map(int, digits))"
   ]
  },
  {
   "cell_type": "code",
   "execution_count": 34,
   "id": "b93afcff",
   "metadata": {},
   "outputs": [],
   "source": [
    "num_words = ['one', 'two', 'three', 'four', 'five', 'six', 'seven', 'eight', 'nine']"
   ]
  },
  {
   "cell_type": "code",
   "execution_count": 66,
   "id": "bb325650",
   "metadata": {},
   "outputs": [],
   "source": [
    "def first_num(line):\n",
    "    for i, _ in enumerate(line):\n",
    "        if line[i].isdigit():\n",
    "            return line[i]\n",
    "        for word_i, word in enumerate(num_words):\n",
    "            if line[i:].startswith(word):\n",
    "                return str(word_i + 1)"
   ]
  },
  {
   "cell_type": "code",
   "execution_count": 68,
   "id": "e6a80929",
   "metadata": {},
   "outputs": [],
   "source": [
    "def last_num(line):\n",
    "    for i in list(range(len(line)))[::-1]:\n",
    "        if line[i].isdigit():\n",
    "            return line[i]\n",
    "        for word_i, word in enumerate(num_words):\n",
    "            if line[:i + 1].endswith(word):\n",
    "                return str(word_i + 1)"
   ]
  },
  {
   "cell_type": "code",
   "execution_count": 72,
   "id": "7a889c6d",
   "metadata": {},
   "outputs": [],
   "source": [
    "digits = [first_num(line) + last_num(line) for line in puzzle_input]"
   ]
  },
  {
   "cell_type": "code",
   "execution_count": 73,
   "id": "3e2e4580",
   "metadata": {},
   "outputs": [
    {
     "data": {
      "text/plain": [
       "54094"
      ]
     },
     "execution_count": 73,
     "metadata": {},
     "output_type": "execute_result"
    }
   ],
   "source": [
    "# part 2 solution\n",
    "sum(map(int, digits))"
   ]
  }
 ],
 "metadata": {
  "kernelspec": {
   "display_name": "Python 3 (ipykernel)",
   "language": "python",
   "name": "python3"
  },
  "language_info": {
   "codemirror_mode": {
    "name": "ipython",
    "version": 3
   },
   "file_extension": ".py",
   "mimetype": "text/x-python",
   "name": "python",
   "nbconvert_exporter": "python",
   "pygments_lexer": "ipython3",
   "version": "3.10.0"
  }
 },
 "nbformat": 4,
 "nbformat_minor": 5
}
